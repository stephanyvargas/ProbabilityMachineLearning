{
 "cells": [
  {
   "cell_type": "markdown",
   "id": "e035269e",
   "metadata": {},
   "source": [
    "# Implementation of Bayes Optimization\n",
    "\n",
    "* The Bayes Optimization algorithm is used for complex optimization problems.\n",
    "* Usually the objective function is complex and intractable to analyze and is often non-convex (local extrema may or may not be the global extrema), nonlinear, high dimension (defined by the number of input variables), noisy, and computationally expensive to evaluate.\n",
    "* Bayesian Optimization builds a probabilistic model of the objective function (tune the hyperparameters), called the surrogate function.\n",
    "\n",
    "\n",
    "Important desciptions:\n",
    "1. *Samples*: One sample is often defined as a vector of variables with a predefined range in an n-dimensional space.\n",
    "2. *Cost*: has units that are specific to a given domain. Optimization is often described in terms of minimizing cost.\n",
    "3. *Objective function*: it is often referred to as a black box function and the search process as black box optimization."
   ]
  },
  {
   "cell_type": "code",
   "execution_count": 15,
   "id": "4ccd0549",
   "metadata": {},
   "outputs": [
    {
     "data": {
      "image/png": "[encoded data removed]",
      "text/plain": [
       "<Figure size 432x288 with 1 Axes>"
      ]
     },
     "metadata": {
      "needs_background": "light"
     },
     "output_type": "display_data"
    }
   ],
   "source": [
    "from math import pi\n",
    "import numpy as np\n",
    "import matplotlib.pyplot as plt\n",
    "\n",
    "x = np.random.random(1000)\n",
    "y =  x**2 * np.sin(5 * pi * x)**6\n",
    "\n",
    "plt.plot(x,y,'o')\n",
    "plt.show()"
   ]
  },
  {
   "cell_type": "code",
   "execution_count": null,
   "id": "8a8a1576",
   "metadata": {},
   "outputs": [],
   "source": []
  },
  {
   "cell_type": "code",
   "execution_count": null,
   "id": "083d7eae",
   "metadata": {},
   "outputs": [],
   "source": []
  },
  {
   "cell_type": "code",
   "execution_count": null,
   "id": "619ef2fb",
   "metadata": {},
   "outputs": [],
   "source": []
  },
  {
   "cell_type": "code",
   "execution_count": null,
   "id": "4457049b",
   "metadata": {},
   "outputs": [],
   "source": []
  },
  {
   "cell_type": "code",
   "execution_count": null,
   "id": "c64266a1",
   "metadata": {},
   "outputs": [],
   "source": []
  }
 ],
 "metadata": {
  "kernelspec": {
   "display_name": "Python 3 (ipykernel)",
   "language": "python",
   "name": "python3"
  },
  "language_info": {
   "codemirror_mode": {
    "name": "ipython",
    "version": 3
   },
   "file_extension": ".py",
   "mimetype": "text/x-python",
   "name": "python",
   "nbconvert_exporter": "python",
   "pygments_lexer": "ipython3",
   "version": "3.8.12"
  },
  "toc": {
   "base_numbering": 1,
   "nav_menu": {},
   "number_sections": true,
   "sideBar": true,
   "skip_h1_title": false,
   "title_cell": "Table of Contents",
   "title_sidebar": "Contents",
   "toc_cell": false,
   "toc_position": {},
   "toc_section_display": true,
   "toc_window_display": false
  }
 },
 "nbformat": 4,
 "nbformat_minor": 5
}
