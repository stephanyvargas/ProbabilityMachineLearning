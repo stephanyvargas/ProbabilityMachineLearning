{
 "cells": [
  {
   "cell_type": "markdown",
   "id": "f48760c4",
   "metadata": {},
   "source": [
    "# Implementation of Bayes Optimization\n",
    "\n",
    "* The Bayes Optimization algorithm is used for complex optimization problems.\n",
    "* Usually the objective function is complex and intractable to analyze and is often non-convex (local extrema may or may not be the global extrema), nonlinear, high dimension (defined by the number of input variables), noisy, and computationally expensive to evaluate.\n",
    "* Bayesian Optimization builds a probabilistic model of the objective function (tune the hyperparameters), called the surrogate function.\n",
    "\n",
    "\n",
    "Important desciptions:\n",
    "1. *Samples*: One sample is often defined as a vector of variables with a predefined range in an n-dimensional space.\n",
    "2. *Cost*: has units that are specific to a given domain. Optimization is often described in terms of minimizing cost.\n",
    "3. *Objective function*: it is often referred to as a black box function and the search process as black box optimization.\n",
    "\n",
    "Summary of optimization in machine learning:\n",
    "\n",
    "* *Algorithm Training*: Optimization of model parameters.\n",
    "* *Algorithm Tuning*: Optimization of model hyperparameters.\n",
    "* *Predictive Modeling*: Optimization of data, data preparation, and algorithm selection.\n",
    "\n",
    "**A directed approach to global optimization that uses probability is called Bayesian Optimization.**\n"
   ]
  },
  {
   "cell_type": "code",
   "execution_count": 25,
   "id": "41a36363",
   "metadata": {},
   "outputs": [
    {
     "ename": "SyntaxError",
     "evalue": "invalid syntax (247152639.py, line 12)",
     "output_type": "error",
     "traceback": [
      "\u001b[0;36m  File \u001b[0;32m\"/tmp/ipykernel_22428/247152639.py\"\u001b[0;36m, line \u001b[0;32m12\u001b[0m\n\u001b[0;31m    plt.figure(figsize=18cm)\u001b[0m\n\u001b[0m                         ^\u001b[0m\n\u001b[0;31mSyntaxError\u001b[0m\u001b[0;31m:\u001b[0m invalid syntax\n"
     ]
    }
   ],
   "source": [
    "from math import pi\n",
    "import numpy as np\n",
    "import matplotlib.pyplot as plt\n",
    "\n",
    "#Sample space\n",
    "x = np.random.random(500)\n",
    "#Function\n",
    "y0 =  x**2 * np.sin(5 * pi * x)**6\n",
    "#add gaussian noise with u=0 and sigma=0.1\n",
    "y = y0 + np.random.normal(loc=0.0, scale=0.1, size=len(y0))\n",
    "\n",
    "plt.figure(figsize=(18,))\n",
    "plt.plot(x,y0,'o', label='ideal')\n",
    "plt.plot(x,y,'+', label='with noise')\n",
    "plt.legend(loc='best')\n",
    "plt.grid('dotted')\n",
    "plt.show()"
   ]
  },
  {
   "cell_type": "code",
   "execution_count": null,
   "id": "601a073e",
   "metadata": {},
   "outputs": [],
   "source": []
  },
  {
   "cell_type": "code",
   "execution_count": null,
   "id": "0070266b",
   "metadata": {},
   "outputs": [],
   "source": []
  },
  {
   "cell_type": "code",
   "execution_count": null,
   "id": "4a1c767a",
   "metadata": {},
   "outputs": [],
   "source": []
  },
  {
   "cell_type": "code",
   "execution_count": null,
   "id": "8e3b9192",
   "metadata": {},
   "outputs": [],
   "source": []
  },
  {
   "cell_type": "code",
   "execution_count": null,
   "id": "1ea6e9fd",
   "metadata": {},
   "outputs": [],
   "source": []
  }
 ],
 "metadata": {
  "kernelspec": {
   "display_name": "Python 3 (ipykernel)",
   "language": "python",
   "name": "python3"
  },
  "language_info": {
   "codemirror_mode": {
    "name": "ipython",
    "version": 3
   },
   "file_extension": ".py",
   "mimetype": "text/x-python",
   "name": "python",
   "nbconvert_exporter": "python",
   "pygments_lexer": "ipython3",
   "version": "3.8.12"
  },
  "toc": {
   "base_numbering": 1,
   "nav_menu": {},
   "number_sections": true,
   "sideBar": true,
   "skip_h1_title": false,
   "title_cell": "Table of Contents",
   "title_sidebar": "Contents",
   "toc_cell": false,
   "toc_position": {},
   "toc_section_display": true,
   "toc_window_display": false
  }
 },
 "nbformat": 4,
 "nbformat_minor": 5
}
